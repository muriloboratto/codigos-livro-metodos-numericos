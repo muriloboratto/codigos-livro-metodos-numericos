{
 "cells": [
  {
   "cell_type": "markdown",
   "id": "439a0646-933c-4a27-94ec-006dfc9014c3",
   "metadata": {
    "tags": []
   },
   "source": [
    "# Métodos Numéricos e Computacionais Aplicados às Ciências e Engenharias\n",
    "## Capítulo 4 - Zeros da Função\n",
    "<hr/>"
   ]
  },
  {
   "cell_type": "markdown",
   "id": "7bd463d5-4fb2-44b8-9a55-ef441ef93f74",
   "metadata": {},
   "source": [
    "**Exercício 4.3.1.1**"
   ]
  },
  {
   "cell_type": "markdown",
   "id": "ce20aae4-ef74-47e5-ace9-894abf9645db",
   "metadata": {},
   "source": [
    "**Bisseção**"
   ]
  },
  {
   "cell_type": "code",
   "execution_count": 82,
   "id": "8f188e3e-f5b0-4948-a4cf-7ee43e4d4d27",
   "metadata": {},
   "outputs": [
    {
     "name": "stdout",
     "output_type": "stream",
     "text": [
      "2.506184145588122\n",
      "0.6529186404191932\n",
      "1.324717957244502\n",
      "1.7320508075699763\n",
      "2.1544346900318487\n"
     ]
    }
   ],
   "source": [
    "import numpy as np\n",
    "from scipy import optimize\n",
    "from numpy import log as ln\n",
    "\n",
    "def f_a(x):\n",
    "   return (x*np.log10(x)-1)\n",
    "\n",
    "def f_b(x):\n",
    "   return (x**2 + ln(x))\n",
    "\n",
    "def f_c(x):\n",
    "   return (x**3 - x - 1)\n",
    "\n",
    "def f_d(x):\n",
    "   return (x**2 - 3)\n",
    "\n",
    "def f_e(x):\n",
    "   return (x**3 - 10)\n",
    "\n",
    "root_a = optimize.bisect(f_a, 2, 3)\n",
    "root_b = optimize.bisect(f_b, .1, 1)\n",
    "root_c = optimize.bisect(f_c, 1, 2)\n",
    "root_d = optimize.bisect(f_d, 1, 2)\n",
    "root_e = optimize.bisect(f_e, 2, 3)\n",
    "\n",
    "print(root_a)\n",
    "print(root_b)\n",
    "print(root_c)\n",
    "print(root_d)\n",
    "print(root_e)\n"
   ]
  },
  {
   "cell_type": "markdown",
   "id": "efa5cec9-6f22-4daf-a82b-539f29c5f721",
   "metadata": {
    "tags": []
   },
   "source": [
    "**Exercício 4.3.1.2**"
   ]
  },
  {
   "cell_type": "markdown",
   "id": "591eae2a-6b16-4f30-b62e-77790f6913d8",
   "metadata": {},
   "source": [
    "**Newton-Raphson**"
   ]
  },
  {
   "cell_type": "code",
   "execution_count": 84,
   "id": "7c696335-7449-4027-9232-17511e0a37ab",
   "metadata": {},
   "outputs": [
    {
     "name": "stdout",
     "output_type": "stream",
     "text": [
      "0.45339765151640377\n",
      "0.5671432904097838\n",
      "1.0\n",
      "-0.766664695962123\n"
     ]
    }
   ],
   "source": [
    "import numpy as np\n",
    "from scipy import optimize\n",
    "\n",
    "def f_a(x):\n",
    "   return (x**3+2*x-1)\n",
    "\n",
    "def f_b(x):\n",
    "   return (x*np.exp(x)-1)\n",
    "\n",
    "def f_c(x):\n",
    "   return (x**2*(x**2-1))\n",
    "\n",
    "def f_d(x):\n",
    "   return (2**x - x**2)\n",
    "\n",
    "\n",
    "root_a = optimize.newton(f_a, .5)\n",
    "root_b = optimize.newton(f_b, 1)\n",
    "root_c = optimize.newton(f_c, 1.5)\n",
    "root_d = optimize.newton(f_d, 0.7)\n",
    "\n",
    "print(root_a)\n",
    "print(root_b)\n",
    "print(root_c)\n",
    "print(root_d)"
   ]
  },
  {
   "cell_type": "markdown",
   "id": "d99fd471-0b2f-490b-b6ef-0612a59d2952",
   "metadata": {
    "tags": []
   },
   "source": [
    "**Exercício 4.3.1.3**"
   ]
  },
  {
   "cell_type": "markdown",
   "id": "cfa66333-5eeb-41f0-b594-2372c6d2e7f0",
   "metadata": {},
   "source": [
    "**Secante**"
   ]
  },
  {
   "cell_type": "code",
   "execution_count": 131,
   "id": "cf2c5555-ffc7-4664-a159-3e89e7f70f3e",
   "metadata": {},
   "outputs": [
    {
     "name": "stdout",
     "output_type": "stream",
     "text": [
      "      converged: True\n",
      "           flag: 'converged'\n",
      " function_calls: 10\n",
      "     iterations: 9\n",
      "           root: 2.690647448028614\n",
      "      converged: True\n",
      "           flag: 'converged'\n",
      " function_calls: 8\n",
      "     iterations: 7\n",
      "           root: 0.7390851332151559\n",
      "      converged: True\n",
      "           flag: 'converged'\n",
      " function_calls: 7\n",
      "     iterations: 6\n",
      "           root: 1.4304450889911058\n",
      "      converged: True\n",
      "           flag: 'converged'\n",
      " function_calls: 10\n",
      "     iterations: 9\n",
      "           root: 0.7937005259839983\n"
     ]
    }
   ],
   "source": [
    "import numpy as np\n",
    "import scipy as sp\n",
    "from scipy import optimize\n",
    "\n",
    "def f_a(x):\n",
    "   return(x**3-2*x**2-5)\n",
    "\n",
    "def f_b(x):\n",
    "   return(x-np.cos(x))\n",
    "\n",
    "def f_c(x):\n",
    "   return(np.sqrt(x)-5*np.exp(-x))\n",
    "\n",
    "def f_d(x):\n",
    "   return(x**3-0.5)\n",
    "\n",
    "root_a = optimize.root_scalar(f_a, bracket=[1, 3])\n",
    "root_b = optimize.root_scalar(f_b, bracket=[0, 1])\n",
    "root_c = optimize.root_scalar(f_c, bracket=[1.4, 1.5])\n",
    "root_d = optimize.root_scalar(f_d, bracket=[0, 1])\n",
    "\n",
    "print(root_a)\n",
    "print(root_b)\n",
    "print(root_c)\n",
    "print(root_d)"
   ]
  }
 ],
 "metadata": {
  "kernelspec": {
   "display_name": "Python 3",
   "language": "python",
   "name": "python3"
  },
  "language_info": {
   "codemirror_mode": {
    "name": "ipython",
    "version": 3
   },
   "file_extension": ".py",
   "mimetype": "text/x-python",
   "name": "python",
   "nbconvert_exporter": "python",
   "pygments_lexer": "ipython3",
   "version": "3.8.8"
  }
 },
 "nbformat": 4,
 "nbformat_minor": 5
}
