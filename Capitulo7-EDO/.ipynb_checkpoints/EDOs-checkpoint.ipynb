{
 "cells": [
  {
   "cell_type": "markdown",
   "id": "439a0646-933c-4a27-94ec-006dfc9014c3",
   "metadata": {
    "tags": []
   },
   "source": [
    "# Métodos Numéricos e Computacionais Aplicados às Ciências e Engenharias\n",
    "## Capítulo 7 - Resolução Numérica de Equações Diferenciais Ordinárias\n",
    "<hr/>"
   ]
  },
  {
   "cell_type": "markdown",
   "id": "7bd463d5-4fb2-44b8-9a55-ef441ef93f74",
   "metadata": {},
   "source": [
    "**Exercício 7.3.1.1**"
   ]
  },
  {
   "cell_type": "code",
   "execution_count": 17,
   "id": "8f188e3e-f5b0-4948-a4cf-7ee43e4d4d27",
   "metadata": {},
   "outputs": [
    {
     "data": {
      "image/png": "[encoded data removed]",
      "text/latex": [
       "$\\displaystyle C_{1} e^{- 1.2 x} + 7.77777777777778 e^{- 0.3 x}$"
      ],
      "text/plain": [
       "    -1.2⋅x                     -0.3⋅x\n",
       "C₁⋅ℯ       + 7.77777777777778⋅ℯ      "
      ]
     },
     "execution_count": 17,
     "metadata": {},
     "output_type": "execute_result"
    }
   ],
   "source": [
    "import sympy as sp\n",
    "sp.init_printing()\n",
    "\n",
    "x = sp.symbols('x')\n",
    "\n",
    "y = sp.Function('y')\n",
    "\n",
    "dy = sp.Derivative(y(x),x)\n",
    "\n",
    "edo = dy + 1.2*y(x) - 7*sp.exp(-0.3*x)\n",
    "\n",
    "sp.expand(sp.dsolve(edo))\n",
    "\n",
    "#print(sp.dsolve(edo))\n",
    "\n",
    "C1 = sp.symbols('C1')\n",
    "\n",
    "x_solved = (C1 + 7.77777777777778*sp.exp(0.9*x))*sp.exp(-1.2*x)\n"
   ]
  },
  {
   "cell_type": "code",
   "execution_count": 25,
   "id": "4e3e6f08-0ea7-47e5-978f-40d3ea372668",
   "metadata": {},
   "outputs": [
    {
     "data": {
      "image/png": "[encoded data removed]",
      "text/latex": [
       "$\\displaystyle - 4.77777777777778 e^{- 1.2 x} + 7.77777777777778 e^{- 0.3 x}$"
      ],
      "text/plain": [
       "                    -1.2⋅x                     -0.3⋅x\n",
       "- 4.77777777777778⋅ℯ       + 7.77777777777778⋅ℯ      "
      ]
     },
     "execution_count": 25,
     "metadata": {},
     "output_type": "execute_result"
    }
   ],
   "source": [
    "#PVI y(0)=3\n",
    "\n",
    "dx_solved = sp.diff(x_solved, x)\n",
    "\n",
    "eq_1 = x_solved.subs(x,0) - 3 \n",
    "\n",
    "C1_solved = sp.solve(eq_1, C1)[0]\n",
    "\n",
    "x_solved_new = (C1_solved + 7.77777777777778*sp.exp(0.9*x))*sp.exp(-1.2*x)\n",
    "\n",
    "sp.expand(x_solved_new) \n"
   ]
  },
  {
   "cell_type": "markdown",
   "id": "3e6216c1-89f6-49e9-aca4-63c678830edf",
   "metadata": {},
   "source": [
    "**Exercício 7.3.1.2**"
   ]
  },
  {
   "cell_type": "code",
   "execution_count": 37,
   "id": "d81bdc02-7480-4950-89b8-a673ef7cedca",
   "metadata": {},
   "outputs": [],
   "source": [
    "import sympy as sp\n",
    "sp.init_printing()\n",
    "\n",
    "x = sp.symbols('x')\n",
    "\n",
    "y = sp.Function('y')\n",
    "\n",
    "dy = sp.Derivative(y(x),x)\n",
    "\n",
    "edo = dy + x*x*x -y(x)*x\n",
    "\n",
    "sp.expand(sp.dsolve(edo))\n",
    "\n",
    "#print(sp.dsolve(edo))\n",
    "\n",
    "C1 = sp.symbols('C1')\n",
    "\n",
    "x_solved = C1*sp.exp(x**2/2) + x**2 + 2\n",
    " "
   ]
  },
  {
   "cell_type": "code",
   "execution_count": 38,
   "id": "96335410-eabc-4864-bf1a-05d4587d9621",
   "metadata": {},
   "outputs": [
    {
     "data": {
      "image/png": "[encoded data removed]",
      "text/latex": [
       "$\\displaystyle x^{2} - e^{\\frac{x^{2}}{2}} + 2$"
      ],
      "text/plain": [
       "       2    \n",
       "      x     \n",
       "      ──    \n",
       " 2    2     \n",
       "x  - ℯ   + 2"
      ]
     },
     "execution_count": 38,
     "metadata": {},
     "output_type": "execute_result"
    }
   ],
   "source": [
    "#PVI y(0)=1\n",
    "\n",
    "dx_solved = sp.diff(x_solved, x)\n",
    "\n",
    "eq_2 = x_solved.subs(x,0) - 1\n",
    "\n",
    "C1_solved = sp.solve(eq_2, C1)[0]\n",
    "\n",
    "x_solved_new = C1_solved*sp.exp(x**2/2) + x**2 + 2\n",
    "\n",
    "sp.expand(x_solved_new) \n"
   ]
  },
  {
   "cell_type": "code",
   "execution_count": null,
   "id": "bfbe14df-21b0-40cf-a614-890654f27c0e",
   "metadata": {},
   "outputs": [],
   "source": []
  }
 ],
 "metadata": {
  "kernelspec": {
   "display_name": "Python 3",
   "language": "python",
   "name": "python3"
  },
  "language_info": {
   "codemirror_mode": {
    "name": "ipython",
    "version": 3
   },
   "file_extension": ".py",
   "mimetype": "text/x-python",
   "name": "python",
   "nbconvert_exporter": "python",
   "pygments_lexer": "ipython3",
   "version": "3.8.8"
  }
 },
 "nbformat": 4,
 "nbformat_minor": 5
}
