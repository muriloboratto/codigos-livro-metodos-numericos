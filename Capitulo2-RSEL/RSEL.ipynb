{
 "cells": [
  {
   "cell_type": "markdown",
   "id": "439a0646-933c-4a27-94ec-006dfc9014c3",
   "metadata": {
    "tags": []
   },
   "source": [
    "# Métodos Numéricos e Computacionais Aplicados às Ciências e Engenharias\n",
    "## Capítulo 2 - Resolução Numérica de Sistemas de Equações Lineares\n",
    "<hr/>"
   ]
  },
  {
   "cell_type": "markdown",
   "id": "7bd463d5-4fb2-44b8-9a55-ef441ef93f74",
   "metadata": {},
   "source": [
    "**Exercício 2.3.1.1**"
   ]
  },
  {
   "cell_type": "code",
   "execution_count": 17,
   "id": "8f188e3e-f5b0-4948-a4cf-7ee43e4d4d27",
   "metadata": {},
   "outputs": [
    {
     "name": "stdout",
     "output_type": "stream",
     "text": [
      "O sistema não converge pelo Critério de Sassenfeld!\n"
     ]
    }
   ],
   "source": [
    "import math\n",
    "import numpy as np\n",
    "\n",
    "def Sassenfeld(A):\n",
    "    coefficients = []\n",
    "    for i in range(len(A)):\n",
    "    \t  b = 0\n",
    "    \t  for j in range(len(A)):\n",
    "    \t  \t    if(i!=j and i ==0) or i < j:\n",
    "    \t  \t       b +=A[i][j]\n",
    "    \t  \t    elif i!=j and i!=0:\n",
    "    \t  \t         b += A[i][j]*coefficients[j]\n",
    "    \t  b/=A[i][i]\n",
    "    \t  coefficients.append(b)\n",
    "\n",
    "    majorCoefficient = max(coefficients)\n",
    "\n",
    "    if majorCoefficient < 1:\n",
    "      print('O sistema converge!')\n",
    "    else:     \n",
    "      print('O sistema não converge pelo critério de Sassenfeld!')\n",
    "\n",
    "\n",
    "A = np.array([ [2,   1,   3 ], \n",
    "               [0,  -1,   1 ], \n",
    "               [1,   0,   3] ])\n",
    "\n",
    "\n",
    "Sassenfeld(A)"
   ]
  },
  {
   "cell_type": "markdown",
   "id": "35ec0044-cbb3-45e7-bc00-51c53e8306a8",
   "metadata": {},
   "source": [
    "**Exercício 2.3.1.2**"
   ]
  },
  {
   "cell_type": "markdown",
   "id": "8cca5eeb-880c-46c0-a030-49f4ec86ab2c",
   "metadata": {},
   "source": [
    "**Gauss-Jacobi**"
   ]
  },
  {
   "cell_type": "code",
   "execution_count": 21,
   "id": "459e6a03-eeec-47cd-b02c-2924614516ca",
   "metadata": {},
   "outputs": [
    {
     "name": "stdout",
     "output_type": "stream",
     "text": [
      "Gass Jacobi Method\n",
      "k      x1     x2     x3 \n",
      "0  0.0000  0.0000  0.0000\n",
      "1  2.7500  1.5000  4.0000\n",
      "2  1.0000  2.8750  2.2500\n",
      "3  0.7500  2.0000  2.7812\n",
      "4  1.0547  1.8750  3.1250\n",
      "5  1.0312  2.0273  3.0039\n",
      "6  0.9854  2.0156  2.9775\n",
      "7  0.9978  1.9927  3.0034\n",
      "8  1.0028  1.9989  3.0029\n",
      "Converged!\n"
     ]
    }
   ],
   "source": [
    "import numpy as np\n",
    "\n",
    "x1 = 0\n",
    "x2 = 0\n",
    "x3 = 0\n",
    "k  = 0\n",
    "epsilon = 10**(-2)\n",
    "converged = False\n",
    "\n",
    "x_old = np.array([x1, x2, x3])\n",
    "\n",
    "print('Gass Jacobi Method')\n",
    "print('k      x1     x2     x3 ')\n",
    "print(\"%d  %.4f  %.4f  %.4f\"%(k, x1, x2, x3))\n",
    "\n",
    "for k in range(1, 1000):\n",
    "    x1_new = (11 - 2*x2 - x3)/4    \n",
    "    x2_new =  (3 + x1)/2 \n",
    "    x3_new = (16 - 2*x1 - x2)/4\n",
    "    \n",
    "    x = np.array([x1_new, x2_new, x3_new])\n",
    "    dx = np.sqrt(np.dot(x-x_old, x-x_old))\n",
    "    \n",
    "    print(\"%d  %.4f  %.4f  %.4f\"%(k, x1_new, x2_new, x3_new))\n",
    "    \n",
    "    x1 = x1_new\n",
    "    x2 = x2_new\n",
    "    x3 = x3_new\n",
    "    \n",
    "    if dx < epsilon:\n",
    "        converged = True\n",
    "        print('Converged!')\n",
    "        break\n",
    "        \n",
    "    x_old = x\n",
    "\n",
    "if not converged:\n",
    "    print('Not converge!')\n"
   ]
  },
  {
   "cell_type": "markdown",
   "id": "bd858666-3d7d-41b9-a223-c1e015258bac",
   "metadata": {},
   "source": [
    "**Gauss-Seidel**"
   ]
  },
  {
   "cell_type": "code",
   "execution_count": 22,
   "id": "56daf54a-4543-4eea-9d43-50e0248b044c",
   "metadata": {},
   "outputs": [
    {
     "name": "stdout",
     "output_type": "stream",
     "text": [
      "Gass Seidel Method\n",
      "k      x1     x2     x3 \n",
      "0  0.0000  0.0000  0.0000\n",
      "1  2.7500  2.8750  1.9062\n",
      "2  0.8359  1.9180  3.1025\n",
      "3  1.0154  2.0077  2.9904\n",
      "4  0.9986  1.9993  3.0009\n",
      "5  1.0001  2.0001  2.9999\n",
      "Converged!\n"
     ]
    }
   ],
   "source": [
    "import numpy as np\n",
    "\n",
    "x1 = 0\n",
    "x2 = 0\n",
    "x3 = 0\n",
    "k  = 0\n",
    "epsilon = 10**(-2)\n",
    "converged = False\n",
    "\n",
    "x_old = np.array([x1, x2, x3])\n",
    "\n",
    "print('Gass Seidel Method')\n",
    "print('k      x1     x2     x3 ')\n",
    "print(\"%d  %.4f  %.4f  %.4f\"%(k, x1, x2, x3))\n",
    "\n",
    "for k in range(1, 1000):\n",
    "\n",
    "    x1 = (11 - 2*x2 - x3)/4    \n",
    "    x2 =  (3 + x1)/2 \n",
    "    x3 = (16 - 2*x1 - x2)/4\n",
    "    \n",
    "    x = np.array([x1, x2, x3])\n",
    "    dx = np.sqrt(np.dot(x-x_old, x-x_old))\n",
    "    \n",
    "    print(\"%d  %.4f  %.4f  %.4f\"%(k, x1, x2, x3))\n",
    "\n",
    "    if dx < epsilon:\n",
    "        converged = True\n",
    "        print('Converged!')\n",
    "        break\n",
    "        \n",
    "    x_old = x\n",
    "\n",
    "if not converged:\n",
    "    print('Not converge!')"
   ]
  },
  {
   "cell_type": "markdown",
   "id": "17e61942-4eef-4368-9ce7-997f70315c51",
   "metadata": {},
   "source": [
    "**Fatoração LU**"
   ]
  },
  {
   "cell_type": "code",
   "execution_count": 24,
   "id": "76563cf9-deac-45bf-80a4-49751408a284",
   "metadata": {},
   "outputs": [
    {
     "name": "stdout",
     "output_type": "stream",
     "text": [
      "[1. 2. 3.]\n"
     ]
    }
   ],
   "source": [
    "import pprint\n",
    "import numpy as np\n",
    "import scipy.linalg as linalg \n",
    "\n",
    "A = np.array([ [ 4,   2,  1 ], \n",
    "               [-1,   2,  0 ], \n",
    "               [ 2,   1,  4] ])\n",
    "\n",
    "B = np.array([11, 3, 16])\n",
    "\n",
    "LU = linalg.lu_factor(A) \n",
    "\n",
    "x = linalg.lu_solve(LU, B) \n",
    "print (x)"
   ]
  },
  {
   "cell_type": "markdown",
   "id": "0ca9520a-7b01-4a33-aa5e-a55e87fe8b02",
   "metadata": {},
   "source": [
    "**Exercício 2.3.1.3**"
   ]
  },
  {
   "cell_type": "code",
   "execution_count": 25,
   "id": "191de217-ac7a-49fc-8fb9-c947fd5f2ec3",
   "metadata": {},
   "outputs": [
    {
     "name": "stdout",
     "output_type": "stream",
     "text": [
      "[-3.  5.  0.]\n"
     ]
    }
   ],
   "source": [
    "import pprint\n",
    "import numpy as np\n",
    "import scipy.linalg as linalg \n",
    "\n",
    "A = np.array([ [ 3,   2,  4 ], \n",
    "               [ 1,   1,  2 ], \n",
    "               [ 4,   3,  -2] ])\n",
    "\n",
    "B = np.array([1, 2, 3])\n",
    "\n",
    "LU = linalg.lu_factor(A) \n",
    "\n",
    "x = linalg.lu_solve(LU, B) \n",
    "print (x)"
   ]
  },
  {
   "cell_type": "code",
   "execution_count": null,
   "id": "6bd5c659-d5f5-4ccc-b168-ea3053423a4b",
   "metadata": {},
   "outputs": [],
   "source": []
  }
 ],
 "metadata": {
  "kernelspec": {
   "display_name": "Python 3",
   "language": "python",
   "name": "python3"
  },
  "language_info": {
   "codemirror_mode": {
    "name": "ipython",
    "version": 3
   },
   "file_extension": ".py",
   "mimetype": "text/x-python",
   "name": "python",
   "nbconvert_exporter": "python",
   "pygments_lexer": "ipython3",
   "version": "3.8.8"
  }
 },
 "nbformat": 4,
 "nbformat_minor": 5
}
