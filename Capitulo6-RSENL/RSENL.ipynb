{
 "cells": [
  {
   "cell_type": "markdown",
   "id": "439a0646-933c-4a27-94ec-006dfc9014c3",
   "metadata": {
    "tags": []
   },
   "source": [
    "# Métodos Numéricos e Computacionais Aplicados às Ciências e Engenharias\n",
    "## Capítulo 6 - Resolução Numérica de Sistemas de Equações Não-Lineares\n",
    "<hr/>"
   ]
  },
  {
   "cell_type": "markdown",
   "id": "7bd463d5-4fb2-44b8-9a55-ef441ef93f74",
   "metadata": {},
   "source": [
    "**Exercício 6.2.1.1**"
   ]
  },
  {
   "cell_type": "markdown",
   "id": "bd858666-3d7d-41b9-a223-c1e015258bac",
   "metadata": {},
   "source": [
    "**a)**"
   ]
  },
  {
   "cell_type": "code",
   "execution_count": 13,
   "id": "8f188e3e-f5b0-4948-a4cf-7ee43e4d4d27",
   "metadata": {},
   "outputs": [
    {
     "data": {
      "image/png": "[encoded data removed]",
      "text/latex": [
       "$\\displaystyle \\left[ \\left( \\frac{1}{12} - \\frac{\\sqrt{265}}{12}, \\  \\frac{\\sqrt{265}}{24} + \\frac{35}{24}\\right), \\  \\left( \\frac{1}{12} + \\frac{\\sqrt{265}}{12}, \\  \\frac{35}{24} - \\frac{\\sqrt{265}}{24}\\right)\\right]$"
      ],
      "text/plain": [
       "⎡⎛1    √265  √265   35⎞  ⎛1    √265  35   √265⎞⎤\n",
       "⎢⎜── - ────, ──── + ──⎟, ⎜── + ────, ── - ────⎟⎥\n",
       "⎣⎝12    12    24    24⎠  ⎝12    12   24    24 ⎠⎦"
      ]
     },
     "execution_count": 13,
     "metadata": {},
     "output_type": "execute_result"
    }
   ],
   "source": [
    "import sympy as sp\n",
    "\n",
    "sp.init_printing()\n",
    "\n",
    "x1,x2,x3 = sp.symbols(['x1', 'x2', 'x3'])\n",
    "\n",
    "a = sp.Matrix([[x1+2*x2-3],[3*x1**2+x2-7]])\n",
    "\n",
    "res_a = sp.solve(a, (x1, x2))\n",
    "\n",
    "res_a"
   ]
  },
  {
   "cell_type": "markdown",
   "id": "a44c486d-0790-417f-bb31-26a0d3c6f74e",
   "metadata": {},
   "source": [
    "**b)**"
   ]
  },
  {
   "cell_type": "code",
   "execution_count": 14,
   "id": "b4087741-1795-444a-b80c-7940aa476da1",
   "metadata": {},
   "outputs": [
    {
     "data": {
      "image/png": "[encoded data removed]",
      "text/latex": [
       "$\\displaystyle \\left[ \\left( - \\frac{\\sqrt{6}}{2}, \\  - \\frac{\\sqrt{2}}{2}\\right), \\  \\left( - \\frac{\\sqrt{6}}{2}, \\  \\frac{\\sqrt{2}}{2}\\right), \\  \\left( \\frac{\\sqrt{6}}{2}, \\  - \\frac{\\sqrt{2}}{2}\\right), \\  \\left( \\frac{\\sqrt{6}}{2}, \\  \\frac{\\sqrt{2}}{2}\\right)\\right]$"
      ],
      "text/plain": [
       "⎡⎛-√6   -√2 ⎞  ⎛-√6   √2⎞  ⎛√6  -√2 ⎞  ⎛√6  √2⎞⎤\n",
       "⎢⎜────, ────⎟, ⎜────, ──⎟, ⎜──, ────⎟, ⎜──, ──⎟⎥\n",
       "⎣⎝ 2     2  ⎠  ⎝ 2    2 ⎠  ⎝2    2  ⎠  ⎝2   2 ⎠⎦"
      ]
     },
     "execution_count": 14,
     "metadata": {},
     "output_type": "execute_result"
    }
   ],
   "source": [
    "import sympy as sp\n",
    "\n",
    "sp.init_printing()\n",
    "\n",
    "x,y = sp.symbols(['x', 'y'])\n",
    "\n",
    "b = sp.Matrix([[x**2+y**2-2],[x**2-y**2-1]])\n",
    "\n",
    "res_b = sp.solve(b, (x, y))\n",
    "\n",
    "res_b"
   ]
  },
  {
   "cell_type": "markdown",
   "id": "1bf6e805-3246-415d-8546-a777013ae400",
   "metadata": {},
   "source": [
    "**c)**"
   ]
  },
  {
   "cell_type": "code",
   "execution_count": 16,
   "id": "b0f33a5b-315b-4ae0-b7c8-0ac78886ee7d",
   "metadata": {},
   "outputs": [
    {
     "data": {
      "image/png": "[encoded data removed]",
      "text/latex": [
       "$\\displaystyle \\left[ \\left( 1, \\  1\\right)\\right]$"
      ],
      "text/plain": [
       "[(1, 1)]"
      ]
     },
     "execution_count": 16,
     "metadata": {},
     "output_type": "execute_result"
    }
   ],
   "source": [
    "import sympy as sp\n",
    "\n",
    "sp.init_printing()\n",
    "\n",
    "x,y = sp.symbols(['x', 'y'])\n",
    "\n",
    "c = sp.Matrix([[10*(y-x**2)],[1-x]])\n",
    "\n",
    "res_c = sp.solve(c, (x, y))\n",
    "\n",
    "res_c"
   ]
  },
  {
   "cell_type": "markdown",
   "id": "c3bf59be-8596-4c18-bfcd-e11730373423",
   "metadata": {},
   "source": [
    "**d)**"
   ]
  },
  {
   "cell_type": "code",
   "execution_count": 42,
   "id": "b95f38a7-3d62-4996-9b01-d4b27051574c",
   "metadata": {},
   "outputs": [
    {
     "data": {
      "image/png": "[encoded data removed]",
      "text/latex": [
       "$\\displaystyle \\left\\{\\left( - \\sqrt{2 - y^{2}}, \\  y\\right), \\left( \\sqrt{2 - y^{2}}, \\  y\\right)\\right\\}$"
      ],
      "text/plain": [
       "⎧⎛    ________   ⎞  ⎛   ________   ⎞⎫\n",
       "⎨⎜   ╱      2    ⎟  ⎜  ╱      2    ⎟⎬\n",
       "⎩⎝-╲╱  2 - y  , y⎠, ⎝╲╱  2 - y  , y⎠⎭"
      ]
     },
     "execution_count": 42,
     "metadata": {},
     "output_type": "execute_result"
    }
   ],
   "source": [
    "import sympy as sp\n",
    "\n",
    "sp.init_printing()\n",
    "\n",
    "x,y = sp.symbols(['x', 'y'])\n",
    "\n",
    "d = sp.Matrix([[x**2 + y**2 -2],[ sp.exp(x-1) + y**3 -2]])\n",
    "\n",
    "res_d = sp.nonlinsolve(d, (x, y))\n",
    "\n",
    "res_d"
   ]
  }
 ],
 "metadata": {
  "kernelspec": {
   "display_name": "Python 3",
   "language": "python",
   "name": "python3"
  },
  "language_info": {
   "codemirror_mode": {
    "name": "ipython",
    "version": 3
   },
   "file_extension": ".py",
   "mimetype": "text/x-python",
   "name": "python",
   "nbconvert_exporter": "python",
   "pygments_lexer": "ipython3",
   "version": "3.8.8"
  }
 },
 "nbformat": 4,
 "nbformat_minor": 5
}
