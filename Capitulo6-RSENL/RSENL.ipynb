{
 "cells": [
  {
   "cell_type": "markdown",
   "id": "439a0646-933c-4a27-94ec-006dfc9014c3",
   "metadata": {
    "tags": []
   },
   "source": [
    "# Métodos Numéricos e Computacionais Aplicados às Ciências e Engenharias\n",
    "## Capítulo 6 - Resolução Numérica de Sistemas de Equações Não-Lineares\n",
    "<hr/>"
   ]
  },
  {
   "cell_type": "markdown",
   "id": "7bd463d5-4fb2-44b8-9a55-ef441ef93f74",
   "metadata": {},
   "source": [
    "**Exercício 6.2.1.1**"
   ]
  },
  {
   "cell_type": "markdown",
   "id": "bd858666-3d7d-41b9-a223-c1e015258bac",
   "metadata": {},
   "source": [
    "**a)**"
   ]
  },
  {
   "cell_type": "code",
   "execution_count": 11,
   "id": "8f188e3e-f5b0-4948-a4cf-7ee43e4d4d27",
   "metadata": {
    "tags": []
   },
   "outputs": [
    {
     "name": "stdout",
     "output_type": "stream",
     "text": [
      "Iterações = 4\n",
      "S = [1.44000705 0.77999648]\n"
     ]
    }
   ],
   "source": [
    "import numpy as np\n",
    "\n",
    "def jacobian_exercise_6_2_1_1_a(xy):\n",
    "    x, y = xy\n",
    "    return [[1,    2],\n",
    "            [6*x,  1]]\n",
    "\n",
    "def function_exercise_6_2_1_1_a(xy):\n",
    "    x, y = xy\n",
    "    return [x+2*y-3, 3*x**2+y-7]\n",
    "\n",
    "\n",
    "def newtonRapshonModified(f, jacobian, x_init):\n",
    "    max_iter = 50\n",
    "    epsilon = 0.1\n",
    "\n",
    "    x_last = x_init\n",
    "\n",
    "    for k in range(max_iter):\n",
    "        # Solve J(xn)*( xn+1 - xn ) = -F(xn)\n",
    "        J = np.array(jacobian(x_last))\n",
    "        F = np.array(f(x_last))\n",
    "\n",
    "        diff = np.linalg.solve( J, -F )\n",
    "        x_last = x_last + diff\n",
    "\n",
    "        # Stop condition\n",
    "        if np.linalg.norm(diff) < epsilon:\n",
    "            print('Iterações =', k+1 )\n",
    "            break\n",
    "\n",
    "    else: \n",
    "        print('Não converge!')\n",
    "\n",
    "    return x_last\n",
    "\n",
    "print('S =', newtonRapshonModified(function_exercise_6_2_1_1_a, jacobian_exercise_6_2_1_1_a, [0.5,0.5]))\n"
   ]
  },
  {
   "cell_type": "markdown",
   "id": "a44c486d-0790-417f-bb31-26a0d3c6f74e",
   "metadata": {},
   "source": [
    "**b)**"
   ]
  },
  {
   "cell_type": "code",
   "execution_count": 12,
   "id": "b0f33a5b-315b-4ae0-b7c8-0ac78886ee7d",
   "metadata": {},
   "outputs": [
    {
     "name": "stdout",
     "output_type": "stream",
     "text": [
      "Iterações = 1\n",
      "S = [1.225      0.70714286]\n"
     ]
    }
   ],
   "source": [
    "import numpy as np\n",
    "\n",
    "def jacobian_exercise_6_2_1_1_b(xy):\n",
    "    x, y = xy\n",
    "    return [[2*x,  2*y],\n",
    "            [2*x,  -2*y]]\n",
    "\n",
    "def function_exercise_6_2_1_1_b(xy):\n",
    "    x, y = xy\n",
    "    return [x**2+y**2-2, x**2-y**2-1]\n",
    "\n",
    "\n",
    "def newtonRapshonModified(f, jacobian, x_init):\n",
    "    max_iter = 50\n",
    "    epsilon = 0.1\n",
    "\n",
    "    x_last = x_init\n",
    "\n",
    "    for k in range(max_iter):\n",
    "        # Solve J(xn)*( xn+1 - xn ) = -F(xn)\n",
    "        J = np.array(jacobian(x_last))\n",
    "        F = np.array(f(x_last))\n",
    "\n",
    "        diff = np.linalg.solve( J, -F )\n",
    "        x_last = x_last + diff\n",
    "\n",
    "        # Stop condition\n",
    "        if np.linalg.norm(diff) < epsilon:\n",
    "            print('Iterações =', k+1 )\n",
    "            break\n",
    "\n",
    "    else: \n",
    "        print('Não converge!')\n",
    "\n",
    "    return x_last\n",
    "\n",
    "print('S =', newtonRapshonModified(function_exercise_6_2_1_1_b, jacobian_exercise_6_2_1_1_b, [1.2,0.7]))\n"
   ]
  },
  {
   "cell_type": "markdown",
   "id": "c3bf59be-8596-4c18-bfcd-e11730373423",
   "metadata": {},
   "source": [
    "**c)**"
   ]
  },
  {
   "cell_type": "code",
   "execution_count": 13,
   "id": "e78a9385-9e5e-415b-9c34-abc1651e3432",
   "metadata": {},
   "outputs": [
    {
     "name": "stdout",
     "output_type": "stream",
     "text": [
      "Iterações = 3\n",
      "S = [1. 1.]\n"
     ]
    }
   ],
   "source": [
    "import numpy as np\n",
    "\n",
    "def jacobian_exercise_6_2_1_1_c(xy):\n",
    "    x, y = xy\n",
    "    return [[-20*x,    10],\n",
    "            [-1,       0]]\n",
    "\n",
    "def function_exercise_6_2_1_1_c(xy):\n",
    "    x, y = xy\n",
    "    return [10*(y-x**2), 1-x]\n",
    "\n",
    "\n",
    "def newtonRapshonModified(f, jacobian, x_init):\n",
    "    max_iter = 50\n",
    "    epsilon = 0.1\n",
    "\n",
    "    x_last = x_init\n",
    "\n",
    "    for k in range(max_iter):\n",
    "        # Solve J(xn)*( xn+1 - xn ) = -F(xn)\n",
    "        J = np.array(jacobian(x_last))\n",
    "        F = np.array(f(x_last))\n",
    "\n",
    "        diff = np.linalg.solve( J, -F )\n",
    "        x_last = x_last + diff\n",
    "\n",
    "        # Stop condition\n",
    "        if np.linalg.norm(diff) < epsilon:\n",
    "            print('Iterações =', k+1 )\n",
    "            break\n",
    "\n",
    "    else: \n",
    "        print('Não converge!')\n",
    "\n",
    "    return x_last\n",
    "\n",
    "print('S =', newtonRapshonModified(function_exercise_6_2_1_1_c, jacobian_exercise_6_2_1_1_c, [-1.2, 1]))\n"
   ]
  },
  {
   "cell_type": "markdown",
   "id": "df262812-40b5-4e82-886b-fafedf59bc55",
   "metadata": {
    "tags": []
   },
   "source": [
    "**d)**"
   ]
  },
  {
   "cell_type": "code",
   "execution_count": 15,
   "id": "f35fabcd-4f80-423c-ad1f-2de3fe0a868f",
   "metadata": {},
   "outputs": [
    {
     "name": "stdout",
     "output_type": "stream",
     "text": [
      "Iterações = 4\n",
      "S = [0.99970847 1.00053483]\n"
     ]
    }
   ],
   "source": [
    "import numpy as np\n",
    "\n",
    "def jacobian_exercise_6_2_1_1_d(xy):\n",
    "    x, y = xy\n",
    "    return [[2*x,               2*y],\n",
    "            [np.exp(x-1),       3*y**2]]\n",
    "\n",
    "def function_exercise_6_2_1_1_d(xy):\n",
    "    x, y = xy\n",
    "    return [x**2+y**2-2, np.exp(x-1)+y**3-2]\n",
    "\n",
    "\n",
    "def newtonRapshonModified(f, jacobian, x_init):\n",
    "    max_iter = 50\n",
    "    epsilon = 0.1\n",
    "\n",
    "    x_last = x_init\n",
    "\n",
    "    for k in range(max_iter):\n",
    "        # Solve J(xn)*( xn+1 - xn ) = -F(xn)\n",
    "        J = np.array(jacobian(x_last))\n",
    "        F = np.array(f(x_last))\n",
    "\n",
    "        diff = np.linalg.solve( J, -F )\n",
    "        x_last = x_last + diff\n",
    "\n",
    "        # Stop condition\n",
    "        if np.linalg.norm(diff) < epsilon:\n",
    "            print('Iterações =', k+1 )\n",
    "            break\n",
    "\n",
    "    else: \n",
    "        print('Não converge!')\n",
    "\n",
    "    return x_last\n",
    "\n",
    "print('S =', newtonRapshonModified(function_exercise_6_2_1_1_d, jacobian_exercise_6_2_1_1_d, [1.5, 2]))\n"
   ]
  }
 ],
 "metadata": {
  "kernelspec": {
   "display_name": "Python 3",
   "language": "python",
   "name": "python3"
  },
  "language_info": {
   "codemirror_mode": {
    "name": "ipython",
    "version": 3
   },
   "file_extension": ".py",
   "mimetype": "text/x-python",
   "name": "python",
   "nbconvert_exporter": "python",
   "pygments_lexer": "ipython3",
   "version": "3.8.8"
  }
 },
 "nbformat": 4,
 "nbformat_minor": 5
}
